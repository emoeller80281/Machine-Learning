{
 "cells": [
  {
   "cell_type": "markdown",
   "id": "09a2d692",
   "metadata": {},
   "source": [
    "# Positional Encoding for Transformers\n",
    "\n",
    "Recurrent neural networks naturally encode the position of words in a sentence. Transformers, on the other hand, do not have an inbuilt mechanism to keep track of the order in which words appear. Therefore, positional information must be added manually to retain the information regarding the order of wrods in a sentence."
   ]
  }
 ],
 "metadata": {
  "language_info": {
   "name": "python"
  }
 },
 "nbformat": 4,
 "nbformat_minor": 5
}
